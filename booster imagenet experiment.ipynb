{
 "cells": [
  {
   "cell_type": "code",
   "execution_count": 1,
   "metadata": {},
   "outputs": [
    {
     "name": "stderr",
     "output_type": "stream",
     "text": [
      "/home/tryan/miniconda2/envs/py37/lib/python3.7/site-packages/sklearn/externals/joblib/__init__.py:15: DeprecationWarning: sklearn.externals.joblib is deprecated in 0.21 and will be removed in 0.23. Please import this functionality directly from joblib, which can be installed with: pip install joblib. If this warning is raised when loading pickled models, you may need to re-serialize those models with scikit-learn 0.21+.\n",
      "  warnings.warn(msg, category=DeprecationWarning)\n"
     ]
    }
   ],
   "source": [
    "import os\n",
    "os.environ['TF_CPP_MIN_LOG_LEVEL'] = '3'\n",
    "os.environ[\"CUDA_VISIBLE_DEVICES\"] = '1'\n",
    "\n",
    "import pickle\n",
    "import numpy as np\n",
    "import lightgbm as lgb\n",
    "\n",
    "from os import listdir\n",
    "from os.path import isfile, join\n",
    "\n",
    "from scipy.stats import entropy\n",
    "from scipy.special import softmax\n",
    "from sklearn.metrics import roc_curve\n",
    "from sklearn.metrics import roc_auc_score\n",
    "from sklearn.externals import joblib\n",
    "from helper import *\n",
    "\n",
    "from matplotlib import mlab\n",
    "import matplotlib.pyplot as plt\n",
    "\n",
    "import warnings\n",
    "warnings.filterwarnings(\"ignore\")"
   ]
  },
  {
   "cell_type": "code",
   "execution_count": 2,
   "metadata": {},
   "outputs": [],
   "source": [
    "#base batch_size=500\n",
    "time_inference = {\n",
    "    'resnet_18' : 0.043308353,\n",
    "    'resnet_34' : 0.063735914,\n",
    "    'resnet_50' : 0.114385653,\n",
    "    'resnet_101' : 0.183127236,\n",
    "    'nasnet_mobile' : 0.8923602104187012,\n",
    "    'nasnet_large' : 5.196358609199524*2,\n",
    "    'pnasnet_mobile' : 0.8181339502334595,\n",
    "    'pnasnet_large' : 4.892335391044616*2,    \n",
    "    \n",
    "}\n",
    "time_inference_cpu = {\n",
    "    'resnet_18' : 1.012381005,\n",
    "    'resnet_34' : 1.728078532,\n",
    "    'resnet_50' : 2.145581436,\n",
    "    'resnet_101' : 3.449709797,\n",
    "    'nasnet_mobile' : 0.,\n",
    "    'nasnet_large' : 0.,\n",
    "    'pnasnet_mobile' : 0.,\n",
    "    'pnasnet_large' : 0.,    \n",
    "}\n",
    "\n",
    "#base batch_size=1\n",
    "# time_inference = {\n",
    "#     'resnet_18' : 0.004326963,\n",
    "#     'resnet_34' : 0.007118535,\n",
    "#     'resnet_50' : 0.01020844,\n",
    "#     'resnet_101' : 0.01618433,    \n",
    "# }\n",
    "# time_inference_cpu = {\n",
    "#     'resnet_18' : 0.035453391,\n",
    "#     'resnet_34' : 0.05855341,\n",
    "#     'resnet_50' : 0.074465179,\n",
    "#     'resnet_101' : 0.114496183,\n",
    "# }"
   ]
  },
  {
   "cell_type": "code",
   "execution_count": 3,
   "metadata": {
    "scrolled": false
   },
   "outputs": [
    {
     "name": "stdout",
     "output_type": "stream",
     "text": [
      "resnet_18 0.6972\n",
      "resnet_34 0.72984\n",
      "resnet_50 0.75826\n",
      "resnet_101 0.77266\n",
      "resnet_18_resnet_34 0.8145272218110744\n",
      "resnet_18_resnet_50 0.8233510095675672\n",
      "resnet_18_resnet_101 0.8246405110531924\n",
      "resnet_34_resnet_50 0.837726432268437\n",
      "resnet_34_resnet_101 0.8391358313030646\n",
      "resnet_50_resnet_101 0.8559524972474787\n"
     ]
    }
   ],
   "source": [
    "resnets = [18, 34, 50, 101]\n",
    "\n",
    "logits = {}\n",
    "accuracy_dict = {}\n",
    "\n",
    "for i in resnets :\n",
    "    net = 'resnet_' + str(i)\n",
    "    l, acc = load_logit_acc(net, 'pred_'+str(i))\n",
    "    print(net, np.mean(acc))\n",
    "    logits[net] = l\n",
    "    accuracy_dict[net] = acc\n",
    "\n",
    "y_val_dict = {}\n",
    "pred_dict = {}\n",
    "\n",
    "for i in range(len(resnets)-1) :\n",
    "    net1 = resnets[i]\n",
    "    for j in range(i+1, len(resnets)) :\n",
    "        net2 = resnets[j]\n",
    "        merge_net_name = str(net2) + '_' + str(net1)\n",
    "        saved_net_name = 'resnet_' + str(net1) + '_resnet_' + str(net2)\n",
    "        y_pred, y_val = load_probability(merge_net_name)\n",
    "        auc = roc_auc_score(y_val, y_pred)\n",
    "        print(saved_net_name, auc)\n",
    "        pred_dict[saved_net_name] = y_pred\n",
    "        y_val_dict[saved_net_name] = y_val"
   ]
  },
  {
   "cell_type": "code",
   "execution_count": 4,
   "metadata": {},
   "outputs": [],
   "source": [
    "def evaluate(net1, net2, gpu=True) :\n",
    "    accuracy1 = accuracy_dict[net1]\n",
    "    accuracy2 = accuracy_dict[net2]\n",
    "    \n",
    "    y_pred = pred_dict[net1 + '_' + net2]\n",
    "    y_val = y_val_dict[net1 + '_' + net2]\n",
    "\n",
    "    if gpu :\n",
    "        time_small = time_inference[net1]\n",
    "        time_large = time_inference[net2]\n",
    "    else :\n",
    "        time_small = time_inference_cpu[net1]\n",
    "        time_large = time_inference_cpu[net2]\n",
    "        \n",
    "    auc = roc_auc_score(y_val, y_pred)\n",
    "    show_auc(y_val, y_pred)\n",
    "    \n",
    "    print(net1, np.mean(accuracy1), '+', net2, np.mean(accuracy2))\n",
    "    print('AUC boosting', auc)   \n",
    "\n",
    "    all_threshold, all_accuracy, all_speedup, passed_rate, val_01, val_10 = calculate_speedup(y_pred, \n",
    "                                                                                              accuracy1, accuracy2, \n",
    "                                                                                              time_small, time_large)\n",
    "    \n",
    "    show(all_threshold, all_accuracy, all_speedup, val_01, val_10)\n",
    "    return all_threshold, all_accuracy, all_speedup, passed_rate, val_01, val_10"
   ]
  },
  {
   "cell_type": "code",
   "execution_count": 5,
   "metadata": {
    "scrolled": false
   },
   "outputs": [
    {
     "name": "stdout",
     "output_type": "stream",
     "text": [
      "resnet_18 0.6972 + resnet_101 0.77266\n",
      "AUC boosting 0.8246405110531924\n"
     ]
    },
    {
     "data": {
      "image/png": "[encoded data removed]",
      "text/plain": [
       "<Figure size 432x288 with 1 Axes>"
      ]
     },
     "metadata": {
      "needs_background": "light"
     },
     "output_type": "display_data"
    },
    {
     "data": {
      "image/png": "[encoded data removed]",
      "text/plain": [
       "<Figure size 1080x360 with 2 Axes>"
      ]
     },
     "metadata": {
      "needs_background": "light"
     },
     "output_type": "display_data"
    }
   ],
   "source": [
    "t, a, s, p, v01, v10 = evaluate('resnet_18', 'resnet_101', gpu=False)"
   ]
  },
  {
   "cell_type": "code",
   "execution_count": 6,
   "metadata": {},
   "outputs": [
    {
     "name": "stdout",
     "output_type": "stream",
     "text": [
      "0.75438 1.8550519704152635 0.02088000000000001\n"
     ]
    }
   ],
   "source": [
    "stayed = np.argmax(s[a<=0.0209])\n",
    "print(stayed/len(s), s[stayed], a[stayed])"
   ]
  },
  {
   "cell_type": "code",
   "execution_count": 7,
   "metadata": {},
   "outputs": [],
   "source": [
    "x = 0.9\n",
    "idx = p>=x"
   ]
  },
  {
   "cell_type": "code",
   "execution_count": 8,
   "metadata": {},
   "outputs": [
    {
     "data": {
      "text/plain": [
       "0.8378939515714274"
      ]
     },
     "execution_count": 8,
     "metadata": {},
     "output_type": "execute_result"
    }
   ],
   "source": [
    "s[idx][-1]"
   ]
  },
  {
   "cell_type": "code",
   "execution_count": 10,
   "metadata": {},
   "outputs": [
    {
     "data": {
      "text/plain": [
       "0.0"
      ]
     },
     "execution_count": 10,
     "metadata": {},
     "output_type": "execute_result"
    }
   ],
   "source": [
    "a[idx][-1]"
   ]
  },
  {
   "cell_type": "code",
   "execution_count": 11,
   "metadata": {},
   "outputs": [
    {
     "data": {
      "text/plain": [
       "0.9"
      ]
     },
     "execution_count": 11,
     "metadata": {},
     "output_type": "execute_result"
    }
   ],
   "source": [
    "p[idx][-1]"
   ]
  },
  {
   "cell_type": "code",
   "execution_count": 12,
   "metadata": {},
   "outputs": [
    {
     "data": {
      "text/plain": [
       "0.11304"
      ]
     },
     "execution_count": 12,
     "metadata": {},
     "output_type": "execute_result"
    }
   ],
   "source": [
    "v01[idx][-1]"
   ]
  },
  {
   "cell_type": "code",
   "execution_count": 13,
   "metadata": {},
   "outputs": [
    {
     "data": {
      "text/plain": [
       "0.03758"
      ]
     },
     "execution_count": 13,
     "metadata": {},
     "output_type": "execute_result"
    }
   ],
   "source": [
    "v10[idx][-1]"
   ]
  },
  {
   "cell_type": "code",
   "execution_count": null,
   "metadata": {},
   "outputs": [],
   "source": []
  },
  {
   "cell_type": "code",
   "execution_count": null,
   "metadata": {},
   "outputs": [],
   "source": []
  }
 ],
 "metadata": {
  "kernelspec": {
   "display_name": "Python 3",
   "language": "python",
   "name": "python3"
  },
  "language_info": {
   "codemirror_mode": {
    "name": "ipython",
    "version": 3
   },
   "file_extension": ".py",
   "mimetype": "text/x-python",
   "name": "python",
   "nbconvert_exporter": "python",
   "pygments_lexer": "ipython3",
   "version": "3.7.2"
  }
 },
 "nbformat": 4,
 "nbformat_minor": 2
}
